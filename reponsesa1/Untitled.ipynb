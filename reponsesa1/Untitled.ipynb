{
 "cells": [
  {
   "cell_type": "code",
   "execution_count": 2,
   "metadata": {},
   "outputs": [
    {
     "name": "stdout",
     "output_type": "stream",
     "text": [
      "24\n",
      "32\n"
     ]
    }
   ],
   "source": [
    "# Unpacking explicite avec une liste, puis un dictionnaire\n",
    "def aire_rectangle(a, b):\n",
    "    return a*b\n",
    "\n",
    "def aire_rectangle(cote1=0, cote2=0):\n",
    "    return cote1*cote2\n",
    "\n",
    "if __name__ == '__main__':\n",
    "    rec1 = [3, 8]\n",
    "    rec2 = {'cote1':4, 'cote2':8}\n",
    "    # La liste rec1 va etre depaquetee en arguments unitaires\n",
    "    print (aire_rectangle(*rec1))\n",
    "    # Le dictionnaire rec2 va etre depaquete en arguments unitaires\n",
    "    print (aire_rectangle(**rec2))"
   ]
  },
  {
   "cell_type": "code",
   "execution_count": null,
   "metadata": {
    "collapsed": true
   },
   "outputs": [],
   "source": []
  }
 ],
 "metadata": {
  "kernelspec": {
   "display_name": "Python 3",
   "language": "python",
   "name": "python3"
  },
  "language_info": {
   "codemirror_mode": {
    "name": "ipython",
    "version": 3
   },
   "file_extension": ".py",
   "mimetype": "text/x-python",
   "name": "python",
   "nbconvert_exporter": "python",
   "pygments_lexer": "ipython3",
   "version": "3.6.1"
  }
 },
 "nbformat": 4,
 "nbformat_minor": 2
}
